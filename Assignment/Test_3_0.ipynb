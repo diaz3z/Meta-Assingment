{
  "cells": [
    {
      "cell_type": "markdown",
      "id": "a2d03c1b-3b7f-4e29-aed5-fe7c3c93a61c",
      "metadata": {
        "id": "a2d03c1b-3b7f-4e29-aed5-fe7c3c93a61c"
      },
      "source": [
        "# Statistics Test 2.0"
      ]
    },
    {
      "cell_type": "markdown",
      "id": "eacdfe41-4c50-4a8d-8af9-25d78ccbab02",
      "metadata": {
        "id": "eacdfe41-4c50-4a8d-8af9-25d78ccbab02"
      },
      "source": [
        "Time - 1.30 Hr\n",
        "\n",
        "\n",
        "Total Marks = 60\n",
        "\n"
      ]
    },
    {
      "cell_type": "markdown",
      "id": "-h45Y-7UcYVW",
      "metadata": {
        "id": "-h45Y-7UcYVW"
      },
      "source": [
        "**MCQ**"
      ]
    },
    {
      "cell_type": "markdown",
      "id": "-0TTQIaXcLJF",
      "metadata": {
        "id": "-0TTQIaXcLJF"
      },
      "source": [
        "**Which of the following is a measure of central tendency?**\n",
        "\n",
        "    A) Variance\n",
        "    B) Standard Deviation\n",
        "    C) Mean\n",
        "    D) Range"
      ]
    },
    {
      "cell_type": "code",
      "execution_count": null,
      "id": "b09aaf89",
      "metadata": {},
      "outputs": [],
      "source": [
        "Mean"
      ]
    },
    {
      "cell_type": "markdown",
      "id": "YEex8H5ocLLr",
      "metadata": {
        "id": "YEex8H5ocLLr"
      },
      "source": [
        "**In a dataset with values [2, 4, 4, 6, 8], what is the median?**\n",
        "\n",
        "    A) 4\n",
        "    B) 4.5\n",
        "    C) 6\n",
        "    D) 8"
      ]
    },
    {
      "cell_type": "code",
      "execution_count": null,
      "id": "ce266a07",
      "metadata": {},
      "outputs": [],
      "source": [
        "4"
      ]
    },
    {
      "cell_type": "markdown",
      "id": "NLR39gAncLNz",
      "metadata": {
        "id": "NLR39gAncLNz"
      },
      "source": [
        "**Inferential statistics are used to:**\n",
        "\n",
        "    A) Describe the data's central tendency\n",
        "    B) Summarize the data\n",
        "    C) Make predictions or inferences about a population based on a sample\n",
        "    D) Visualize the data"
      ]
    },
    {
      "cell_type": "code",
      "execution_count": null,
      "id": "0a6bc3d6",
      "metadata": {},
      "outputs": [],
      "source": [
        "Make predictions or inferences about a population based on a sample."
      ]
    },
    {
      "cell_type": "markdown",
      "id": "gxSeoRancLP9",
      "metadata": {
        "id": "gxSeoRancLP9"
      },
      "source": [
        "**What does a confidence interval represent?**\n",
        "\n",
        "    A) The range within which the population mean is expected to fall with a certain probability\n",
        "    B) The exact value of the population mean\n",
        "    C) The variability within the sample\n",
        "    D) The number of samples required"
      ]
    },
    {
      "cell_type": "code",
      "execution_count": null,
      "id": "913221dd",
      "metadata": {},
      "outputs": [],
      "source": [
        "The range within which the population mean is expected to fall with a certain probability."
      ]
    },
    {
      "cell_type": "markdown",
      "id": "8VcnEmX9cLSM",
      "metadata": {
        "id": "8VcnEmX9cLSM"
      },
      "source": [
        "**According to the Central Limit Theorem, as the sample size increases, the distribution of the sample mean:**\n",
        "\n",
        "    A) Becomes skewed\n",
        "    B) Approaches a normal distribution\n",
        "    C) Remains uniform\n",
        "    D) Becomes bimodal"
      ]
    },
    {
      "cell_type": "code",
      "execution_count": null,
      "id": "58cd6ec4",
      "metadata": {},
      "outputs": [],
      "source": [
        "Approaches a normal distribution."
      ]
    },
    {
      "cell_type": "markdown",
      "id": "mQAz26m_cLUq",
      "metadata": {
        "id": "mQAz26m_cLUq"
      },
      "source": [
        "**The Central Limit Theorem is important because:**\n",
        "\n",
        "    A) It helps in defining the exact population distribution\n",
        "    B) It allows for the use of normal distribution to make inferences about sample means\n",
        "    C) It eliminates the need for sampling\n",
        "    D) It ensures sample sizes are always large"
      ]
    },
    {
      "cell_type": "code",
      "execution_count": null,
      "id": "0e15d11b",
      "metadata": {},
      "outputs": [],
      "source": [
        "It allows for the use of normal distribution to make inferences about sample means."
      ]
    },
    {
      "cell_type": "markdown",
      "id": "F1T_g8pgcLWv",
      "metadata": {
        "id": "F1T_g8pgcLWv"
      },
      "source": [
        "**ANOVA is used to test:**\n",
        "\n",
        "    A) The association between two categorical variables\n",
        "    B) The differences between means of three or more groups\n",
        "    C) The proportion of a sample\n",
        "    D) The correlation between two continuous variables"
      ]
    },
    {
      "cell_type": "code",
      "execution_count": null,
      "id": "fe64ffbb",
      "metadata": {},
      "outputs": [],
      "source": [
        "The differences between means of three or more groups.\n"
      ]
    },
    {
      "cell_type": "markdown",
      "id": "MXX8Exw3dBzd",
      "metadata": {
        "id": "MXX8Exw3dBzd"
      },
      "source": [
        "**A p-value less than 0.05 in an ANOVA test indicates:**\n",
        "\n",
        "    A) There is no significant difference between group means\n",
        "    B) The means of at least one group are significantly different from others\n",
        "    C) The variances within groups are equal\n",
        "    D) The sample size is too small"
      ]
    },
    {
      "cell_type": "code",
      "execution_count": null,
      "id": "27d4855e",
      "metadata": {},
      "outputs": [],
      "source": [
        "The means of at least one group are significantly different from others."
      ]
    },
    {
      "cell_type": "markdown",
      "id": "T5dE7-GIdB14",
      "metadata": {
        "id": "T5dE7-GIdB14"
      },
      "source": [
        "**The chi-square test of independence assesses:**\n",
        "\n",
        "    A) If two continuous variables are related\n",
        "    B) The goodness-of-fit of a model\n",
        "    C) The association between two categorical variables\n",
        "    D) The variance of a single variable"
      ]
    },
    {
      "cell_type": "code",
      "execution_count": null,
      "id": "6e5bea61",
      "metadata": {},
      "outputs": [],
      "source": [
        "The association between two categorical variables."
      ]
    },
    {
      "cell_type": "markdown",
      "id": "TbkJYhyNdIa0",
      "metadata": {
        "id": "TbkJYhyNdIa0"
      },
      "source": [
        "**The two-sample t-test assumes:**\n",
        "\n",
        "    A) Equal variances between the two groups\n",
        "    B) Unequal variances between the two groups\n",
        "    C) No assumption about variances\n",
        "    D) The samples are paired"
      ]
    },
    {
      "cell_type": "code",
      "execution_count": null,
      "id": "f6a16cf7",
      "metadata": {},
      "outputs": [],
      "source": [
        "Equal variances between the two groups.\n"
      ]
    },
    {
      "cell_type": "markdown",
      "id": "6b85eac4-9fa5-4a6e-8944-31cfdb85b1f7",
      "metadata": {
        "id": "6b85eac4-9fa5-4a6e-8944-31cfdb85b1f7"
      },
      "source": [
        "# Python Basic Exercise\n",
        "\n",
        "### Solve any three"
      ]
    },
    {
      "cell_type": "markdown",
      "id": "daf26a58-0326-40aa-bdb6-8d765abaa5e8",
      "metadata": {
        "id": "daf26a58-0326-40aa-bdb6-8d765abaa5e8"
      },
      "source": [
        "Que 1 -> You have a list a=[1,2,3,6,9,7,4,5,8], and you have to find the kth element from the list. This means I want to find the 2nd largest number from the list. Similarly, you have to create a function where I pass a number, say 4, and the function will return the 4th largest number from the list."
      ]
    },
    {
      "cell_type": "code",
      "execution_count": 1,
      "id": "6f85b635-779f-4c1f-be25-fed8ad6ca5b0",
      "metadata": {
        "id": "6f85b635-779f-4c1f-be25-fed8ad6ca5b0"
      },
      "outputs": [
        {
          "name": "stdout",
          "output_type": "stream",
          "text": [
            "8\n"
          ]
        }
      ],
      "source": [
        "\n",
        "a = [1, 2, 3, 6, 9, 7, 4, 5, 8]\n",
        "k = 2  \n",
        "\n",
        "\n",
        "if k > len(a) or k <= 0:\n",
        "    print(\"Invalid value for k\")\n",
        "else:\n",
        "    sorted_a = sorted(a, reverse=True)\n",
        "    kth_largest = sorted_a[k - 1]\n",
        "    \n",
        "    print(kth_largest)\n"
      ]
    },
    {
      "cell_type": "markdown",
      "id": "bb4ffbe7-2bd2-47fe-be13-41ce39dde5a7",
      "metadata": {
        "id": "bb4ffbe7-2bd2-47fe-be13-41ce39dde5a7"
      },
      "source": [
        "Que 2-> you have a list [1,8,0,6,4,0,6,0,0,2,0], You need to shift all the zeros to the right , without using any inbuilt function."
      ]
    },
    {
      "cell_type": "code",
      "execution_count": 2,
      "id": "39017c11-1084-4c96-b229-83ba71c15b98",
      "metadata": {
        "id": "39017c11-1084-4c96-b229-83ba71c15b98"
      },
      "outputs": [
        {
          "name": "stdout",
          "output_type": "stream",
          "text": [
            "[1, 8, 6, 4, 6, 2, 0, 0, 0, 0, 0]\n"
          ]
        }
      ],
      "source": [
        "\n",
        "lst = [1, 8, 0, 6, 4, 0, 6, 0, 0, 2, 0]\n",
        "\n",
        "\n",
        "non_zeros = []\n",
        "zero_count = 0\n",
        "\n",
        "# Traverse the list\n",
        "for element in lst:\n",
        "    if element == 0:\n",
        "        zero_count += 1\n",
        "    else:\n",
        "        non_zeros.append(element)\n",
        "\n",
        "for i in range(len(lst)):\n",
        "    if i < len(non_zeros):\n",
        "        lst[i] = non_zeros[i]\n",
        "    else:\n",
        "        lst[i] = 0\n",
        "\n",
        "print(lst)\n"
      ]
    },
    {
      "cell_type": "markdown",
      "id": "8f6bb4bc-9d9f-4f99-ad34-489934da6fb8",
      "metadata": {
        "id": "8f6bb4bc-9d9f-4f99-ad34-489934da6fb8"
      },
      "source": [
        "Que 3->Reverse a string without using any inbuilt function like slicing."
      ]
    },
    {
      "cell_type": "code",
      "execution_count": 3,
      "id": "3cfc4b48-15e0-4fcf-8cb7-1c6171d407e6",
      "metadata": {
        "id": "3cfc4b48-15e0-4fcf-8cb7-1c6171d407e6"
      },
      "outputs": [
        {
          "name": "stdout",
          "output_type": "stream",
          "text": [
            "roficSateM\n"
          ]
        }
      ],
      "source": [
        "original_string = \"MetaScifor\"\n",
        "\n",
        "\n",
        "reversed_string = \"\"\n",
        "\n",
        "\n",
        "for i in range(len(original_string) - 1, -1, -1):\n",
        "    reversed_string += original_string[i]\n",
        "\n",
        "print(reversed_string)\n"
      ]
    },
    {
      "cell_type": "markdown",
      "id": "58b475ca-89a9-4074-adfa-1b31e6609aaf",
      "metadata": {
        "id": "58b475ca-89a9-4074-adfa-1b31e6609aaf"
      },
      "source": [
        "Que 4-> To find common prefix in array of strings\n",
        "\n",
        "array= ['Abce','Abcjhgj','Abcf']\n",
        "\n",
        "\n",
        "The common prefix among the strings 'Abce', 'Abcjhgj', and 'Abcf' is 'Abc'. So, the common prefix is 'Abc'."
      ]
    },
    {
      "cell_type": "code",
      "execution_count": 4,
      "id": "80d7e6ea-574b-4135-aa87-a042e9956390",
      "metadata": {
        "id": "80d7e6ea-574b-4135-aa87-a042e9956390"
      },
      "outputs": [
        {
          "name": "stdout",
          "output_type": "stream",
          "text": [
            "Abc\n"
          ]
        }
      ],
      "source": [
        "array = ['Abce', 'Abcjhgj', 'Abcf']\n",
        "\n",
        "if not array:\n",
        "    print('')\n",
        "else:\n",
        "    prefix = array[0]\n",
        "    \n",
        "    for string in array[1:]:\n",
        "        while not string.startswith(prefix):\n",
        "            prefix = prefix[:-1]\n",
        "            if not prefix:\n",
        "                break\n",
        "    \n",
        "    print(prefix)\n"
      ]
    },
    {
      "cell_type": "markdown",
      "id": "91637a40-f4ed-414d-9c71-c82374cb13a3",
      "metadata": {
        "id": "91637a40-f4ed-414d-9c71-c82374cb13a3"
      },
      "source": [
        "Que 5- Given the list l = [1,2,0,1,2,0,0], I want the output to be ans = [0,0,0,2,2,1,1] without using any inbuilt function"
      ]
    },
    {
      "cell_type": "code",
      "execution_count": 5,
      "id": "ea7b0b77-9ff4-4f73-9a99-129c665fb961",
      "metadata": {
        "id": "ea7b0b77-9ff4-4f73-9a99-129c665fb961"
      },
      "outputs": [
        {
          "name": "stdout",
          "output_type": "stream",
          "text": [
            "[0, 0, 0, 2, 2, 1, 1]\n"
          ]
        }
      ],
      "source": [
        "l = [1, 2, 0, 1, 2, 0, 0]\n",
        "\n",
        "zero_count = 0\n",
        "non_zeros = []\n",
        "\n",
        "for num in l:\n",
        "    if num == 0:\n",
        "        zero_count += 1\n",
        "    else:\n",
        "        non_zeros.append(num)\n",
        "\n",
        "for i in range(len(non_zeros)):\n",
        "    for j in range(len(non_zeros) - i - 1):\n",
        "        if non_zeros[j] < non_zeros[j + 1]:\n",
        "            # Swap the elements\n",
        "            non_zeros[j], non_zeros[j + 1] = non_zeros[j + 1], non_zeros[j]\n",
        "\n",
        "ans = [0] * zero_count + non_zeros\n",
        "\n",
        "print(ans)\n",
        "\n"
      ]
    },
    {
      "cell_type": "code",
      "execution_count": null,
      "id": "f36bc3d6-7bd0-4f8e-aad7-ac40484e911f",
      "metadata": {
        "id": "f36bc3d6-7bd0-4f8e-aad7-ac40484e911f"
      },
      "outputs": [],
      "source": []
    },
    {
      "cell_type": "markdown",
      "id": "e17c874f-ffe2-416f-af6c-2ba6e57a0bfd",
      "metadata": {
        "id": "e17c874f-ffe2-416f-af6c-2ba6e57a0bfd"
      },
      "source": [
        "# Statistics Theory Question\n"
      ]
    },
    {
      "cell_type": "markdown",
      "id": "0b748385-fe05-40f2-adc8-5b643f95b906",
      "metadata": {
        "id": "0b748385-fe05-40f2-adc8-5b643f95b906"
      },
      "source": [
        "Que 1- What is Central Limit Theoram ? Explain."
      ]
    },
    {
      "cell_type": "code",
      "execution_count": null,
      "id": "6e9ac27e-7076-4a13-89a6-d0ebe39d10f1",
      "metadata": {
        "id": "6e9ac27e-7076-4a13-89a6-d0ebe39d10f1"
      },
      "outputs": [],
      "source": [
        "Ans=\n",
        "The Central Limit Theorem states that, given a sufficiently large sample size, \n",
        "the distribution of the sample mean will approximate a normal distribution (Gaussian distribution), regardless of the original distribution of the data.\n",
        "\n",
        "\n",
        "μx̅ = μ (Mean of sample mean = Population mean)"
      ]
    },
    {
      "cell_type": "markdown",
      "id": "8466b61e-24b9-4567-bd63-04d8fb5360ad",
      "metadata": {
        "id": "8466b61e-24b9-4567-bd63-04d8fb5360ad"
      },
      "source": [
        "Que 2- What is CDF(Comulative density function). Explain with mathematics."
      ]
    },
    {
      "cell_type": "code",
      "execution_count": null,
      "id": "02b38da6-fd6a-4ecc-8275-aa85a320f78a",
      "metadata": {
        "id": "02b38da6-fd6a-4ecc-8275-aa85a320f78a"
      },
      "outputs": [],
      "source": [
        "Ans= Comulative Density Function , in pdf we are checking for only one person and we only check how much probablity in one data . \n",
        "but in cdf we find for between two consecutive hours or we can find within from starting to where we want.\n",
        "    \n",
        "    The CDF provides a complete description of the probability distribution of a random variable. \n",
        "It summarizes the likelihood of the random variable being less than or equal to various values, which can be useful for probability calculations, \n",
        "statistical inference, and understanding the behavior of random variables."
      ]
    },
    {
      "cell_type": "markdown",
      "id": "6ada9cfc-cb42-4e64-b74e-7befd45cbe4a",
      "metadata": {
        "id": "6ada9cfc-cb42-4e64-b74e-7befd45cbe4a"
      },
      "source": [
        "Que 3- What is Anova test. how we can calculate behind the scene ?"
      ]
    },
    {
      "cell_type": "code",
      "execution_count": null,
      "id": "b2173ae3-80fc-4ba6-bbb9-3013db30a02f",
      "metadata": {
        "id": "b2173ae3-80fc-4ba6-bbb9-3013db30a02f"
      },
      "outputs": [],
      "source": [
        "Ans= \n",
        "ANOVA is a statistical method used to test if there are significant differences between the means of three or more groups. \n",
        "It determines whether the observed differences in sample means are due to random variation or if they are statistically significant. \n",
        "ANOVA helps to identify whether any of the group means are different from each other."
      ]
    },
    {
      "cell_type": "markdown",
      "id": "dffe2da1-3353-4865-85eb-fff2caea349a",
      "metadata": {
        "id": "dffe2da1-3353-4865-85eb-fff2caea349a"
      },
      "source": [
        "Que 4-  What is Chi-Square test. how we will calculate behind the scene."
      ]
    },
    {
      "cell_type": "code",
      "execution_count": null,
      "id": "00d08145-13da-4d6d-a580-fca78914b2d8",
      "metadata": {
        "id": "00d08145-13da-4d6d-a580-fca78914b2d8"
      },
      "outputs": [],
      "source": [
        "Ans= The chi squared test can be used to determine wheather your data obeys a known theoretical porbablity distribution such as normal or poisson distribution.\n",
        "The Chi-Square test is used for analyzing categorical data to determine if observed frequencies differ significantly from expected frequencies. \n",
        "It involves calculating expected frequencies, computing the Chi-Square statistic, \n",
        "and comparing it with a critical value or p-value to make inferences about the relationships between categorical variables or the fit of data to a distribution."
      ]
    },
    {
      "cell_type": "markdown",
      "id": "8fec219a-1fe3-41db-a2ba-8a0b5e0b4a43",
      "metadata": {
        "id": "8fec219a-1fe3-41db-a2ba-8a0b5e0b4a43"
      },
      "source": [
        "Que 5-  What is the difference between inferential and descriptive statistics."
      ]
    },
    {
      "cell_type": "code",
      "execution_count": null,
      "id": "6717b5d9-704f-4f01-854a-d89d40cb8568",
      "metadata": {
        "id": "6717b5d9-704f-4f01-854a-d89d40cb8568"
      },
      "outputs": [],
      "source": [
        "Ans= Descriptive Statistics and Inferential Statistics are two broad categories of statistical methods used to analyze data, but they serve different purposes and use different techniques."
      ]
    },
    {
      "cell_type": "markdown",
      "id": "d7a2df48-9875-4b6b-ba26-feee4e03b1d5",
      "metadata": {
        "id": "d7a2df48-9875-4b6b-ba26-feee4e03b1d5"
      },
      "source": [
        "Que 6- Explain any 2 distribution."
      ]
    },
    {
      "cell_type": "code",
      "execution_count": null,
      "id": "938bde99-9a25-4a93-b594-182b09b7db61",
      "metadata": {
        "id": "938bde99-9a25-4a93-b594-182b09b7db61"
      },
      "outputs": [],
      "source": [
        "Ans =  1. Normal Distribution:\n",
        "The Normal Distribution, also known as the Gaussian Distribution, is a continuous probability distribution characterized by its symmetric bell-shaped curve.\n",
        "It is defined by its mean (μ) and standard deviation (𝜎).\n",
        "\n",
        "Binomial Distribution:\n",
        "The Binomial Distribution is a discrete probability distribution that describes the number of successes in a fixed number of independent Bernoulli trials, each with the same probability of success."
      ]
    },
    {
      "cell_type": "markdown",
      "id": "5c2a1d3b-bea9-4de6-8018-a120e2d36528",
      "metadata": {
        "id": "5c2a1d3b-bea9-4de6-8018-a120e2d36528"
      },
      "source": [
        "# Statistics Mathematics  Question\n",
        "\n"
      ]
    },
    {
      "cell_type": "markdown",
      "id": "40749fa8-a06d-4d9c-8864-4bb8b24599a3",
      "metadata": {
        "id": "40749fa8-a06d-4d9c-8864-4bb8b24599a3"
      },
      "source": [
        "Que 1 - if I generate heights for 1000 people from a normal distribution, what would be the probability for a new person to have a height of 70 inches using (CDF) then z-score table? take height in inches.\n",
        "\n",
        "#### Mean height (in inches) of the population\n",
        "mean_height = 66\n",
        "\n",
        "#### Standard deviation of heights (in inches) of the population\n",
        "std_dev_height = 3\n",
        "\n",
        "\n",
        "##### Generate data using this code\n",
        "###### Generate heights for 1000 people from a normal distribution\n",
        "heights = np.random.normal(mean_height, std_dev_height, 1000)))"
      ]
    },
    {
      "cell_type": "code",
      "execution_count": 6,
      "id": "e0b6c3a7-4b11-403f-860d-0beab1408712",
      "metadata": {
        "id": "e0b6c3a7-4b11-403f-860d-0beab1408712"
      },
      "outputs": [
        {
          "name": "stdout",
          "output_type": "stream",
          "text": [
            "Z-score: 1.33\n",
            "Probability (CDF) of having a height of 70 inches: 0.9088\n",
            "Probability from generated data: 0.0840\n"
          ]
        }
      ],
      "source": [
        "import numpy as np\n",
        "import scipy.stats as stats\n",
        "\n",
        "\n",
        "mean_height = 66\n",
        "std_dev_height = 3\n",
        "height = 70\n",
        "\n",
        "z_score = (height - mean_height) / std_dev_height\n",
        "\n",
        "probability = stats.norm.cdf(z_score)\n",
        "\n",
        "print(f\"Z-score: {z_score:.2f}\")\n",
        "print(f\"Probability (CDF) of having a height of {height} inches: {probability:.4f}\")\n",
        "\n",
        "np.random.seed(0)  \n",
        "heights = np.random.normal(mean_height, std_dev_height, 1000)\n",
        "count_greater_or_equal = np.sum(heights >= height)\n",
        "probability_generated = count_greater_or_equal / len(heights)\n",
        "\n",
        "print(f\"Probability from generated data: {probability_generated:.4f}\")\n"
      ]
    },
    {
      "cell_type": "code",
      "execution_count": null,
      "id": "02c423a1-cadd-4780-b2b1-606b36cbb1a9",
      "metadata": {
        "id": "02c423a1-cadd-4780-b2b1-606b36cbb1a9"
      },
      "outputs": [],
      "source": []
    },
    {
      "cell_type": "code",
      "execution_count": null,
      "id": "fc8691b1-9217-45fa-9c79-c7ad3b60b150",
      "metadata": {
        "id": "fc8691b1-9217-45fa-9c79-c7ad3b60b150"
      },
      "outputs": [],
      "source": []
    },
    {
      "cell_type": "code",
      "execution_count": null,
      "id": "5dabad10-7ae0-4827-9d09-6b95ea27deea",
      "metadata": {
        "id": "5dabad10-7ae0-4827-9d09-6b95ea27deea"
      },
      "outputs": [],
      "source": []
    },
    {
      "cell_type": "code",
      "execution_count": null,
      "id": "2ab7b5e6-e40f-450c-becf-eadedda71980",
      "metadata": {
        "id": "2ab7b5e6-e40f-450c-becf-eadedda71980"
      },
      "outputs": [],
      "source": []
    },
    {
      "cell_type": "markdown",
      "id": "99a22f4f-7737-4ef9-9ad0-fb7bd8e0ba46",
      "metadata": {
        "id": "99a22f4f-7737-4ef9-9ad0-fb7bd8e0ba46"
      },
      "source": [
        "Que 2-  Suppose a fitness center manager anticipates the attendance for a particular yoga class throughout the week. Based on historical data and other factors, they estimate the expected attendance in numbers:\n",
        "\n",
        "### Expected Attendance:\n",
        "\n",
        "Monday: 40\n",
        "\n",
        "Tuesday: 45\n",
        "\n",
        "Wednesday: 38\n",
        "\n",
        "Thursday: 50\n",
        "\n",
        "Friday: 55\n",
        "\n",
        "Saturday: 60\n",
        "\n",
        "Sunday: 65\n",
        "\n",
        "However, after the week concludes, the actual attendance is recorded:\n",
        "\n",
        "\n",
        "\n",
        "### Observed (Actual) Attendance:\n",
        "\n",
        "\n",
        "\n",
        "Monday: 38\n",
        "\n",
        "Tuesday: 43\n",
        "\n",
        "Wednesday: 40\n",
        "\n",
        "Thursday: 48\n",
        "\n",
        "Friday: 52\n",
        "\n",
        "Saturday: 58\n",
        "\n",
        "Sunday: 62\n",
        "\n",
        "Ho: There is no significant difference between the expected and observed attendance for the yoga class throughout the week.\n",
        "\n",
        "Ha: There is a significant difference between the expected and observed attendance for the yoga class throughout the week.\n",
        "\n",
        "#### Use chi-square test *Statistical Tools*"
      ]
    },
    {
      "cell_type": "code",
      "execution_count": 7,
      "id": "06f2df44-24f4-4314-900d-d03f02823ceb",
      "metadata": {
        "id": "06f2df44-24f4-4314-900d-d03f02823ceb"
      },
      "outputs": [
        {
          "name": "stdout",
          "output_type": "stream",
          "text": [
            "Chi-Square Statistic: 0.743\n",
            "Degrees of Freedom: 6\n",
            "Critical Value (alpha = 0.05): 12.592\n",
            "Fail to reject the null hypothesis: There is no significant difference between the expected and observed attendance.\n"
          ]
        }
      ],
      "source": [
        "from scipy.stats import chi2\n",
        "\n",
        "\n",
        "expected = [40, 45, 38, 50, 55, 60, 65]\n",
        "observed = [38, 43, 40, 48, 52, 58, 62]\n",
        "\n",
        "chi_squared_stat = sum((o - e) ** 2 / e for o, e in zip(observed, expected))\n",
        "\n",
        "df = len(expected) - 1\n",
        "\n",
        "alpha = 0.05\n",
        "critical_value = chi2.ppf(1 - alpha, df)\n",
        "\n",
        "print(f\"Chi-Square Statistic: {chi_squared_stat:.3f}\")\n",
        "print(f\"Degrees of Freedom: {df}\")\n",
        "print(f\"Critical Value (alpha = {alpha}): {critical_value:.3f}\")\n",
        "\n",
        "\n",
        "if chi_squared_stat > critical_value:\n",
        "    print(\"Reject the null hypothesis: There is a significant difference between the expected and observed attendance.\")\n",
        "else:\n",
        "    print(\"Fail to reject the null hypothesis: There is no significant difference between the expected and observed attendance.\")\n"
      ]
    },
    {
      "cell_type": "code",
      "execution_count": null,
      "id": "3db52de2-8492-49fa-a11f-9289d5318284",
      "metadata": {
        "id": "3db52de2-8492-49fa-a11f-9289d5318284"
      },
      "outputs": [],
      "source": []
    },
    {
      "cell_type": "markdown",
      "id": "a651ae03-9b6a-4af4-a3e9-97b90bb8913e",
      "metadata": {
        "id": "a651ae03-9b6a-4af4-a3e9-97b90bb8913e"
      },
      "source": [
        "Que3 -> Calculate anova test\n",
        "\n",
        "\n",
        "\n",
        "\n",
        "\n",
        "    | Student_ID | Semester | Total_Marks |\n",
        "    |------------|----------|-------------|\n",
        "    | 1          | Fall     | 85          |\n",
        "    | 2          | Fall     | 78          |\n",
        "    | 3          | Fall     | 92          |\n",
        "    | 4          | Spring   | 88          |\n",
        "    | 5          | Spring   | 75          |\n",
        "    | 6          | Spring   | 82          |\n",
        "    | 7          | Summer   | 90          |\n",
        "    | 8          | Summer   | 86          |\n",
        "    | 9          | Summer   | 79          |    \n",
        "\n",
        "\n",
        "Null Hypothesis (Ho): The average marks of students in each semester are approximately equal.\n",
        "\n",
        "Alternative Hypothesis (Ha): The average marks of students in at least one semester are different."
      ]
    },
    {
      "cell_type": "code",
      "execution_count": 10,
      "id": "f4680b16-587c-4bec-809e-bfe473b7538a",
      "metadata": {
        "id": "f4680b16-587c-4bec-809e-bfe473b7538a"
      },
      "outputs": [
        {
          "name": "stdout",
          "output_type": "stream",
          "text": [
            "Sum of Squares Between Groups (SSB): 22.22\n",
            "Sum of Squares Within Groups (SSW): 244.67\n",
            "Degrees of Freedom Between Groups: 2\n",
            "Degrees of Freedom Within Groups: 6\n",
            "Mean Square Between Groups (MSB): 11.11\n",
            "Mean Square Within Groups (MSW): 40.78\n",
            "F-Statistic: 0.27\n",
            "p-value: 0.7704\n",
            "Fail to reject the null hypothesis: The average marks of students in each semester are approximately equal.\n"
          ]
        }
      ],
      "source": [
        "import numpy as np\n",
        "import scipy.stats as stats\n",
        "\n",
        "\n",
        "data = {\n",
        "    'Fall': [85, 78, 92],\n",
        "    'Spring': [88, 75, 82],\n",
        "    'Summer': [90, 86, 79]\n",
        "}\n",
        "\n",
        "\n",
        "means = {semester: np.mean(marks) for semester, marks in data.items()}\n",
        "overall_mean = np.mean([mark for marks in data.values() for mark in marks])\n",
        "\n",
        "\n",
        "ssb = sum(len(marks) * (np.mean(marks) - overall_mean) ** 2 for marks in data.values())\n",
        "\n",
        "\n",
        "ssw = sum(sum((mark - np.mean(marks)) ** 2 for mark in marks) for marks in data.values())\n",
        "\n",
        "\n",
        "df_between = len(data) - 1\n",
        "df_within = sum(len(marks) for marks in data.values()) - len(data)\n",
        "\n",
        "msb = ssb / df_between\n",
        "msw = ssw / df_within\n",
        "\n",
        "f_statistic = msb / msw\n",
        "\n",
        "p_value = stats.f.sf(f_statistic, df_between, df_within)\n",
        "\n",
        "print(f\"Sum of Squares Between Groups (SSB): {ssb:.2f}\")\n",
        "print(f\"Sum of Squares Within Groups (SSW): {ssw:.2f}\")\n",
        "print(f\"Degrees of Freedom Between Groups: {df_between}\")\n",
        "print(f\"Degrees of Freedom Within Groups: {df_within}\")\n",
        "print(f\"Mean Square Between Groups (MSB): {msb:.2f}\")\n",
        "print(f\"Mean Square Within Groups (MSW): {msw:.2f}\")\n",
        "print(f\"F-Statistic: {f_statistic:.2f}\")\n",
        "print(f\"p-value: {p_value:.4f}\")\n",
        "\n",
        "alpha = 0.05\n",
        "if p_value < alpha:\n",
        "    print(\"Reject the null hypothesis: The average marks of students in at least one semester are different.\")\n",
        "else:\n",
        "    print(\"Fail to reject the null hypothesis: The average marks of students in each semester are approximately equal.\")\n"
      ]
    },
    {
      "cell_type": "code",
      "execution_count": null,
      "id": "18d90b6a-a4e8-4b2c-97a2-9829efb6703b",
      "metadata": {
        "id": "18d90b6a-a4e8-4b2c-97a2-9829efb6703b"
      },
      "outputs": [],
      "source": []
    },
    {
      "cell_type": "code",
      "execution_count": null,
      "id": "575e378d-97df-466d-bebb-c0fe35db0935",
      "metadata": {
        "id": "575e378d-97df-466d-bebb-c0fe35db0935"
      },
      "outputs": [],
      "source": []
    },
    {
      "cell_type": "code",
      "execution_count": null,
      "id": "cab935e4-8712-49b3-8201-e9f7b446c5a0",
      "metadata": {
        "id": "cab935e4-8712-49b3-8201-e9f7b446c5a0"
      },
      "outputs": [],
      "source": []
    },
    {
      "cell_type": "code",
      "execution_count": null,
      "id": "d53135d4-8642-469e-adc7-cc8665a07a7e",
      "metadata": {
        "id": "d53135d4-8642-469e-adc7-cc8665a07a7e"
      },
      "outputs": [],
      "source": [
        "#Solution only submit in Github"
      ]
    },
    {
      "cell_type": "code",
      "execution_count": null,
      "id": "81d8187f-1a71-40ea-a3ed-6c30f21ad72b",
      "metadata": {
        "id": "81d8187f-1a71-40ea-a3ed-6c30f21ad72b"
      },
      "outputs": [],
      "source": []
    }
  ],
  "metadata": {
    "colab": {
      "provenance": []
    },
    "kernelspec": {
      "display_name": "Python 3 (ipykernel)",
      "language": "python",
      "name": "python3"
    },
    "language_info": {
      "codemirror_mode": {
        "name": "ipython",
        "version": 3
      },
      "file_extension": ".py",
      "mimetype": "text/x-python",
      "name": "python",
      "nbconvert_exporter": "python",
      "pygments_lexer": "ipython3",
      "version": "3.11.7"
    }
  },
  "nbformat": 4,
  "nbformat_minor": 5
}
